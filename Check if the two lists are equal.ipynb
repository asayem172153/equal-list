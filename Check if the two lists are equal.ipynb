{
  "nbformat": 4,
  "nbformat_minor": 0,
  "metadata": {
    "colab": {
      "provenance": []
    },
    "kernelspec": {
      "name": "python3",
      "display_name": "Python 3"
    },
    "language_info": {
      "name": "python"
    }
  },
  "cells": [
    {
      "cell_type": "code",
      "execution_count": 6,
      "metadata": {
        "colab": {
          "base_uri": "https://localhost:8080/"
        },
        "id": "jsyXwvJPo2LI",
        "outputId": "1f9eaaf0-c05b-4a73-d871-80295403fb05"
      },
      "outputs": [
        {
          "output_type": "stream",
          "name": "stdout",
          "text": [
            "Equal\n"
          ]
        }
      ],
      "source": [
        "list1 = [1, 2, 3, 4, 5]\n",
        "list2 = [1, 2, 3, 4, 5]\n",
        "\n",
        "flag = True\n",
        "if len(list1) == len(list2):\n",
        "  for i in range(len(list1)):\n",
        "    if list1[i] != list2[i]:\n",
        "      flag = False\n",
        "      print('Not Equal')\n",
        "  if flag:\n",
        "    print('Equal')\n",
        "else:\n",
        "  print('Not Equal')"
      ]
    },
    {
      "cell_type": "code",
      "source": [
        "#Another way\n",
        "list1 = [1, 2, 3, 4, 5]\n",
        "list2 = [1, 2, 3, 4, 7]\n",
        "\n",
        "if list1 == list2:\n",
        "  print('Equal')\n",
        "else:\n",
        "  print('Not Equal')"
      ],
      "metadata": {
        "colab": {
          "base_uri": "https://localhost:8080/"
        },
        "id": "uW9kjQVbNJGJ",
        "outputId": "f5955c80-8dd1-45ab-f948-f6dba714f5c3"
      },
      "execution_count": 7,
      "outputs": [
        {
          "output_type": "stream",
          "name": "stdout",
          "text": [
            "Not Equal\n"
          ]
        }
      ]
    }
  ]
}